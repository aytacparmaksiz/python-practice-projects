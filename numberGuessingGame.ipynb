{
  "nbformat": 4,
  "nbformat_minor": 0,
  "metadata": {
    "colab": {
      "provenance": [],
      "authorship_tag": "ABX9TyMX+oeqHxLyvjXD9kO9iG4y"
    },
    "kernelspec": {
      "name": "python3",
      "display_name": "Python 3"
    },
    "language_info": {
      "name": "python"
    }
  },
  "cells": [
    {
      "cell_type": "code",
      "execution_count": 1,
      "metadata": {
        "id": "UB1vzYVp2GRA"
      },
      "outputs": [],
      "source": [
        "import random"
      ]
    },
    {
      "cell_type": "code",
      "source": [
        "# Assign the variables\n",
        "\n",
        "compGuess = random.randint(1,11) # Random integer that selected by computer\n",
        "\n",
        "attempts = 3 #Maximum amount of attempts\n",
        "\n",
        "for attempt in range(attempts):\n",
        "  userGuess = int(input(\"Please guess a number between 1 and 10 \")) #Input from the user\n",
        "\n",
        "  if userGuess < compGuess:\n",
        "    print(\"Guess a higher number! \")\n",
        "  elif userGuess > compGuess:\n",
        "    print(\"Guess a lower number! \")\n",
        "  else:\n",
        "    print(\"You guessed it right! The number is {} \".format(compGuess))\n",
        "    break\n",
        "if userGuess != compGuess:\n",
        "  print(\"You have no attempt left.\")\n"
      ],
      "metadata": {
        "id": "QmarYYv82IRo"
      },
      "execution_count": null,
      "outputs": []
    },
    {
      "cell_type": "code",
      "source": [],
      "metadata": {
        "id": "_I6mUKbQZNNp"
      },
      "execution_count": null,
      "outputs": []
    }
  ]
}