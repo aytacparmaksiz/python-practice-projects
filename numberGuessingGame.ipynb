{
  "nbformat": 4,
  "nbformat_minor": 0,
  "metadata": {
    "colab": {
      "provenance": [],
      "authorship_tag": "ABX9TyN8OVc1D+usR8u+2QEnYqeh",
      "include_colab_link": true
    },
    "kernelspec": {
      "name": "python3",
      "display_name": "Python 3"
    },
    "language_info": {
      "name": "python"
    }
  },
  "cells": [
    {
      "cell_type": "markdown",
      "metadata": {
        "id": "view-in-github",
        "colab_type": "text"
      },
      "source": [
        "<a href=\"https://colab.research.google.com/github/aytacparmaksiz/python-practice-projects/blob/main/numberGuessingGame.ipynb\" target=\"_parent\"><img src=\"https://colab.research.google.com/assets/colab-badge.svg\" alt=\"Open In Colab\"/></a>"
      ]
    },
    {
      "cell_type": "code",
      "execution_count": 1,
      "metadata": {
        "id": "UB1vzYVp2GRA"
      },
      "outputs": [],
      "source": [
        "import random"
      ]
    },
    {
      "cell_type": "code",
      "source": [
        "# Assign the variables\n",
        "\n",
        "compGuess = random.randint(1,11) # Random integer that selected by computer\n",
        "\n",
        "attempts = 3 #Maximum amount of attempts\n",
        "\n",
        "for attempt in range(attempts):\n",
        "  userGuess = int(input(\"Please guess a number between 1 and 10 \")) #Input from the user\n",
        "\n",
        "  if userGuess < compGuess:\n",
        "    print(\"Guess a higher number! \")\n",
        "  elif userGuess > compGuess:\n",
        "    print(\"Guess a lower number! \")\n",
        "  else:\n",
        "    print(\"You guessed it right! The number is {} \".format(compGuess))\n",
        "    break\n",
        "if userGuess != compGuess:\n",
        "  print(\"You have no attempt left.\")"
      ],
      "metadata": {
        "colab": {
          "base_uri": "https://localhost:8080/"
        },
        "id": "QmarYYv82IRo",
        "outputId": "3d4a6cde-b539-49a7-a41d-5b2d3fb06d77"
      },
      "execution_count": 20,
      "outputs": [
        {
          "output_type": "stream",
          "name": "stdout",
          "text": [
            "Please guess a number between 1 and 10 5\n",
            "Please guess a higher number! \n",
            "Please guess a number between 1 and 10 6\n",
            "Please guess a higher number! \n",
            "Please guess a number between 1 and 10 3\n",
            "Please guess a higher number! \n",
            "You have no attempt left.\n"
          ]
        }
      ]
    },
    {
      "cell_type": "code",
      "source": [
        "!git clone https://github.com/aytacparmaksiz/python-practice-projects"
      ],
      "metadata": {
        "colab": {
          "base_uri": "https://localhost:8080/"
        },
        "id": "w8ycXAvuWVXI",
        "outputId": "ed75d173-40a0-413a-b091-954b49b35bf1"
      },
      "execution_count": 36,
      "outputs": [
        {
          "output_type": "stream",
          "name": "stdout",
          "text": [
            "fatal: destination path 'python-practice-projects' already exists and is not an empty directory.\n"
          ]
        }
      ]
    },
    {
      "cell_type": "code",
      "source": [
        "!ls"
      ],
      "metadata": {
        "colab": {
          "base_uri": "https://localhost:8080/"
        },
        "id": "MlG1mPcfXZT6",
        "outputId": "978134f7-d69a-4a7a-fd14-23faa4a20c94"
      },
      "execution_count": 32,
      "outputs": [
        {
          "output_type": "stream",
          "name": "stdout",
          "text": [
            "numberGuessingName  python-practice-projects  sample_data\n"
          ]
        }
      ]
    },
    {
      "cell_type": "code",
      "source": [
        "!git add\n",
        "!git commit -m \"Commit message\"\n",
        "!git push origin master"
      ],
      "metadata": {
        "colab": {
          "base_uri": "https://localhost:8080/"
        },
        "id": "EX9rtLKgXbVp",
        "outputId": "0343b23f-9685-4253-ef84-edd2862a63d5"
      },
      "execution_count": 37,
      "outputs": [
        {
          "output_type": "stream",
          "name": "stdout",
          "text": [
            "fatal: not a git repository (or any of the parent directories): .git\n",
            "fatal: not a git repository (or any of the parent directories): .git\n",
            "fatal: not a git repository (or any of the parent directories): .git\n"
          ]
        }
      ]
    },
    {
      "cell_type": "code",
      "source": [],
      "metadata": {
        "id": "LK7DZ8Q-XivC"
      },
      "execution_count": null,
      "outputs": []
    }
  ]
}